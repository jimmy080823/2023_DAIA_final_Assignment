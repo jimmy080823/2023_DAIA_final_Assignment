{
 "cells": [
  {
   "cell_type": "code",
   "execution_count": 1,
   "metadata": {},
   "outputs": [],
   "source": [
    "import pandas as pd\n",
    "import numpy as np\n",
    "from scipy import stats\n",
    "import matplotlib.pyplot as plt\n",
    "import seaborn as sns\n",
    "import math\n",
    "import statsmodels.api as sm"
   ]
  },
  {
   "cell_type": "code",
   "execution_count": 17,
   "metadata": {},
   "outputs": [
    {
     "data": {
      "text/html": [
       "<div>\n",
       "<style scoped>\n",
       "    .dataframe tbody tr th:only-of-type {\n",
       "        vertical-align: middle;\n",
       "    }\n",
       "\n",
       "    .dataframe tbody tr th {\n",
       "        vertical-align: top;\n",
       "    }\n",
       "\n",
       "    .dataframe thead th {\n",
       "        text-align: right;\n",
       "    }\n",
       "</style>\n",
       "<table border=\"1\" class=\"dataframe\">\n",
       "  <thead>\n",
       "    <tr style=\"text-align: right;\">\n",
       "      <th></th>\n",
       "      <th>No</th>\n",
       "      <th>Country</th>\n",
       "      <th>Continent</th>\n",
       "      <th>LifeExpect</th>\n",
       "      <th>GDPPC</th>\n",
       "      <th>MfgMn$</th>\n",
       "      <th>AgriMn$</th>\n",
       "      <th>CO2kt</th>\n",
       "      <th>HealthPC$</th>\n",
       "      <th>Pop_mn</th>\n",
       "    </tr>\n",
       "  </thead>\n",
       "  <tbody>\n",
       "    <tr>\n",
       "      <th>0</th>\n",
       "      <td>1</td>\n",
       "      <td>Afghanistan</td>\n",
       "      <td>Asia</td>\n",
       "      <td>63.565</td>\n",
       "      <td>500.522981</td>\n",
       "      <td>1331.48</td>\n",
       "      <td>4872.44</td>\n",
       "      <td>11238.83</td>\n",
       "      <td>74.234104</td>\n",
       "      <td>37.77</td>\n",
       "    </tr>\n",
       "    <tr>\n",
       "      <th>1</th>\n",
       "      <td>2</td>\n",
       "      <td>Albania</td>\n",
       "      <td>Europe</td>\n",
       "      <td>79.282</td>\n",
       "      <td>5396.214227</td>\n",
       "      <td>963.57</td>\n",
       "      <td>2832.29</td>\n",
       "      <td>4993.30</td>\n",
       "      <td>NaN</td>\n",
       "      <td>2.85</td>\n",
       "    </tr>\n",
       "    <tr>\n",
       "      <th>2</th>\n",
       "      <td>3</td>\n",
       "      <td>Algeria</td>\n",
       "      <td>Africa</td>\n",
       "      <td>76.474</td>\n",
       "      <td>4021.983608</td>\n",
       "      <td>40980.38</td>\n",
       "      <td>21189.60</td>\n",
       "      <td>170582.40</td>\n",
       "      <td>250.560776</td>\n",
       "      <td>42.71</td>\n",
       "    </tr>\n",
       "    <tr>\n",
       "      <th>3</th>\n",
       "      <td>4</td>\n",
       "      <td>Angola</td>\n",
       "      <td>Africa</td>\n",
       "      <td>62.448</td>\n",
       "      <td>2142.238757</td>\n",
       "      <td>4253.81</td>\n",
       "      <td>5463.38</td>\n",
       "      <td>24382.90</td>\n",
       "      <td>69.379341</td>\n",
       "      <td>32.35</td>\n",
       "    </tr>\n",
       "    <tr>\n",
       "      <th>4</th>\n",
       "      <td>5</td>\n",
       "      <td>Antigua and Barbuda</td>\n",
       "      <td>North America</td>\n",
       "      <td>78.691</td>\n",
       "      <td>18187.779712</td>\n",
       "      <td>37.48</td>\n",
       "      <td>29.25</td>\n",
       "      <td>509.00</td>\n",
       "      <td>801.543823</td>\n",
       "      <td>0.09</td>\n",
       "    </tr>\n",
       "  </tbody>\n",
       "</table>\n",
       "</div>"
      ],
      "text/plain": [
       "   No              Country      Continent  LifeExpect         GDPPC    MfgMn$  \\\n",
       "0   1          Afghanistan           Asia      63.565    500.522981   1331.48   \n",
       "1   2              Albania         Europe      79.282   5396.214227    963.57   \n",
       "2   3              Algeria         Africa      76.474   4021.983608  40980.38   \n",
       "3   4               Angola         Africa      62.448   2142.238757   4253.81   \n",
       "4   5  Antigua and Barbuda  North America      78.691  18187.779712     37.48   \n",
       "\n",
       "    AgriMn$      CO2kt   HealthPC$  Pop_mn  \n",
       "0   4872.44   11238.83   74.234104   37.77  \n",
       "1   2832.29    4993.30         NaN    2.85  \n",
       "2  21189.60  170582.40  250.560776   42.71  \n",
       "3   5463.38   24382.90   69.379341   32.35  \n",
       "4     29.25     509.00  801.543823    0.09  "
      ]
     },
     "execution_count": 17,
     "metadata": {},
     "output_type": "execute_result"
    }
   ],
   "source": [
    "csv2019 = pd.read_excel(\"EconomicIndicators2019.xlsx\")\n",
    "csv2019.head()"
   ]
  },
  {
   "cell_type": "code",
   "execution_count": 18,
   "metadata": {},
   "outputs": [
    {
     "name": "stdout",
     "output_type": "stream",
     "text": [
      "<class 'pandas.core.frame.DataFrame'>\n",
      "RangeIndex: 177 entries, 0 to 176\n",
      "Data columns (total 10 columns):\n",
      " #   Column      Non-Null Count  Dtype  \n",
      "---  ------      --------------  -----  \n",
      " 0   No          177 non-null    int64  \n",
      " 1   Country     177 non-null    object \n",
      " 2   Continent   177 non-null    object \n",
      " 3   LifeExpect  177 non-null    float64\n",
      " 4   GDPPC       177 non-null    float64\n",
      " 5   MfgMn$      177 non-null    float64\n",
      " 6   AgriMn$     177 non-null    float64\n",
      " 7   CO2kt       167 non-null    float64\n",
      " 8   HealthPC$   164 non-null    float64\n",
      " 9   Pop_mn      177 non-null    float64\n",
      "dtypes: float64(7), int64(1), object(2)\n",
      "memory usage: 14.0+ KB\n"
     ]
    }
   ],
   "source": [
    "csv2019.info()  #have missing values in  CO2kt and HealthPC$"
   ]
  },
  {
   "cell_type": "code",
   "execution_count": 19,
   "metadata": {},
   "outputs": [
    {
     "data": {
      "text/plain": [
       "array(['Asia', 'Europe', 'Africa', 'North America', 'South America',\n",
       "       'Oceania', 'EuRope', 'Asi', 'ASIA', 'Euro', 'N America', 'Afric'],\n",
       "      dtype=object)"
      ]
     },
     "execution_count": 19,
     "metadata": {},
     "output_type": "execute_result"
    }
   ],
   "source": [
    "continents = csv2019['Continent'].unique()  #Not organized string.\n",
    "continents"
   ]
  },
  {
   "cell_type": "code",
   "execution_count": 20,
   "metadata": {},
   "outputs": [
    {
     "data": {
      "text/plain": [
       "array(['Asia', 'Europe', 'Africa', 'North America', 'South America',\n",
       "       'Oceania'], dtype=object)"
      ]
     },
     "execution_count": 20,
     "metadata": {},
     "output_type": "execute_result"
    }
   ],
   "source": [
    "#Asia, Europe, Africa, North America, South America, Oceania\n",
    "continent_mapping = {\n",
    "    'Asia': 'Asia', 'ASIA': 'Asia', 'Asi': 'Asia',\n",
    "    'Europe': 'Europe', 'EuRope': 'Europe', 'Euro': 'Europe',\n",
    "    'Africa': 'Africa', 'Afric': 'Africa',\n",
    "    'North America': 'North America', 'N America': 'North America',\n",
    "    'South America': 'South America',\n",
    "    'Oceania': 'Oceania'\n",
    "}\n",
    "\n",
    "csv2019['Continent'] = csv2019['Continent'].map(continent_mapping)\n",
    "continents = csv2019['Continent'].unique()\n",
    "continents"
   ]
  },
  {
   "cell_type": "code",
   "execution_count": null,
   "metadata": {},
   "outputs": [],
   "source": []
  }
 ],
 "metadata": {
  "kernelspec": {
   "display_name": "base",
   "language": "python",
   "name": "python3"
  },
  "language_info": {
   "codemirror_mode": {
    "name": "ipython",
    "version": 3
   },
   "file_extension": ".py",
   "mimetype": "text/x-python",
   "name": "python",
   "nbconvert_exporter": "python",
   "pygments_lexer": "ipython3",
   "version": "3.11.5"
  }
 },
 "nbformat": 4,
 "nbformat_minor": 2
}
