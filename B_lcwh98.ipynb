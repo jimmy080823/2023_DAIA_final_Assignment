{
 "cells": [
  {
   "cell_type": "code",
   "execution_count": 1,
   "metadata": {},
   "outputs": [],
   "source": [
    "import pandas as pd\n",
    "import numpy as np\n",
    "from scipy import stats\n",
    "import matplotlib.pyplot as plt\n",
    "import seaborn as sns\n",
    "import math\n",
    "import statsmodels.api as sm"
   ]
  },
  {
   "cell_type": "markdown",
   "metadata": {},
   "source": [
    "## problem 2-1"
   ]
  },
  {
   "cell_type": "code",
   "execution_count": 17,
   "metadata": {},
   "outputs": [
    {
     "data": {
      "text/html": [
       "<div>\n",
       "<style scoped>\n",
       "    .dataframe tbody tr th:only-of-type {\n",
       "        vertical-align: middle;\n",
       "    }\n",
       "\n",
       "    .dataframe tbody tr th {\n",
       "        vertical-align: top;\n",
       "    }\n",
       "\n",
       "    .dataframe thead th {\n",
       "        text-align: right;\n",
       "    }\n",
       "</style>\n",
       "<table border=\"1\" class=\"dataframe\">\n",
       "  <thead>\n",
       "    <tr style=\"text-align: right;\">\n",
       "      <th></th>\n",
       "      <th>No</th>\n",
       "      <th>Country</th>\n",
       "      <th>Continent</th>\n",
       "      <th>LifeExpect</th>\n",
       "      <th>GDPPC</th>\n",
       "      <th>MfgMn$</th>\n",
       "      <th>AgriMn$</th>\n",
       "      <th>CO2kt</th>\n",
       "      <th>HealthPC$</th>\n",
       "      <th>Pop_mn</th>\n",
       "    </tr>\n",
       "  </thead>\n",
       "  <tbody>\n",
       "    <tr>\n",
       "      <th>0</th>\n",
       "      <td>1</td>\n",
       "      <td>Afghanistan</td>\n",
       "      <td>Asia</td>\n",
       "      <td>63.565</td>\n",
       "      <td>500.522981</td>\n",
       "      <td>1331.48</td>\n",
       "      <td>4872.44</td>\n",
       "      <td>11238.83</td>\n",
       "      <td>74.234104</td>\n",
       "      <td>37.77</td>\n",
       "    </tr>\n",
       "    <tr>\n",
       "      <th>1</th>\n",
       "      <td>2</td>\n",
       "      <td>Albania</td>\n",
       "      <td>Europe</td>\n",
       "      <td>79.282</td>\n",
       "      <td>5396.214227</td>\n",
       "      <td>963.57</td>\n",
       "      <td>2832.29</td>\n",
       "      <td>4993.30</td>\n",
       "      <td>NaN</td>\n",
       "      <td>2.85</td>\n",
       "    </tr>\n",
       "    <tr>\n",
       "      <th>2</th>\n",
       "      <td>3</td>\n",
       "      <td>Algeria</td>\n",
       "      <td>Africa</td>\n",
       "      <td>76.474</td>\n",
       "      <td>4021.983608</td>\n",
       "      <td>40980.38</td>\n",
       "      <td>21189.60</td>\n",
       "      <td>170582.40</td>\n",
       "      <td>250.560776</td>\n",
       "      <td>42.71</td>\n",
       "    </tr>\n",
       "    <tr>\n",
       "      <th>3</th>\n",
       "      <td>4</td>\n",
       "      <td>Angola</td>\n",
       "      <td>Africa</td>\n",
       "      <td>62.448</td>\n",
       "      <td>2142.238757</td>\n",
       "      <td>4253.81</td>\n",
       "      <td>5463.38</td>\n",
       "      <td>24382.90</td>\n",
       "      <td>69.379341</td>\n",
       "      <td>32.35</td>\n",
       "    </tr>\n",
       "    <tr>\n",
       "      <th>4</th>\n",
       "      <td>5</td>\n",
       "      <td>Antigua and Barbuda</td>\n",
       "      <td>North America</td>\n",
       "      <td>78.691</td>\n",
       "      <td>18187.779712</td>\n",
       "      <td>37.48</td>\n",
       "      <td>29.25</td>\n",
       "      <td>509.00</td>\n",
       "      <td>801.543823</td>\n",
       "      <td>0.09</td>\n",
       "    </tr>\n",
       "  </tbody>\n",
       "</table>\n",
       "</div>"
      ],
      "text/plain": [
       "   No              Country      Continent  LifeExpect         GDPPC    MfgMn$  \\\n",
       "0   1          Afghanistan           Asia      63.565    500.522981   1331.48   \n",
       "1   2              Albania         Europe      79.282   5396.214227    963.57   \n",
       "2   3              Algeria         Africa      76.474   4021.983608  40980.38   \n",
       "3   4               Angola         Africa      62.448   2142.238757   4253.81   \n",
       "4   5  Antigua and Barbuda  North America      78.691  18187.779712     37.48   \n",
       "\n",
       "    AgriMn$      CO2kt   HealthPC$  Pop_mn  \n",
       "0   4872.44   11238.83   74.234104   37.77  \n",
       "1   2832.29    4993.30         NaN    2.85  \n",
       "2  21189.60  170582.40  250.560776   42.71  \n",
       "3   5463.38   24382.90   69.379341   32.35  \n",
       "4     29.25     509.00  801.543823    0.09  "
      ]
     },
     "execution_count": 17,
     "metadata": {},
     "output_type": "execute_result"
    }
   ],
   "source": [
    "csv2019 = pd.read_excel(\"EconomicIndicators2019.xlsx\")\n",
    "csv2019.head()"
   ]
  },
  {
   "cell_type": "code",
   "execution_count": 30,
   "metadata": {},
   "outputs": [
    {
     "name": "stdout",
     "output_type": "stream",
     "text": [
      "0\n",
      "GDPPC        0\n",
      "MfgMn$       0\n",
      "AgriMn$      0\n",
      "CO2kt        0\n",
      "HealthPC$    0\n",
      "Pop_mn       0\n",
      "dtype: int64\n"
     ]
    }
   ],
   "source": [
    "duplicates = csv2019.duplicated().sum()\n",
    "print(duplicates)\n",
    "negative= (csv2019[['GDPPC', 'MfgMn$', 'AgriMn$', 'CO2kt', 'HealthPC$', 'Pop_mn']] < 0).sum()\n",
    "print(negative)  #no problem here."
   ]
  },
  {
   "cell_type": "code",
   "execution_count": 19,
   "metadata": {},
   "outputs": [
    {
     "data": {
      "text/plain": [
       "array(['Asia', 'Europe', 'Africa', 'North America', 'South America',\n",
       "       'Oceania', 'EuRope', 'Asi', 'ASIA', 'Euro', 'N America', 'Afric'],\n",
       "      dtype=object)"
      ]
     },
     "execution_count": 19,
     "metadata": {},
     "output_type": "execute_result"
    }
   ],
   "source": [
    "continents = csv2019['Continent'].unique() #Find out there's non-organized string.\n",
    "continents"
   ]
  },
  {
   "cell_type": "code",
   "execution_count": 20,
   "metadata": {},
   "outputs": [
    {
     "data": {
      "text/plain": [
       "array(['Asia', 'Europe', 'Africa', 'North America', 'South America',\n",
       "       'Oceania'], dtype=object)"
      ]
     },
     "execution_count": 20,
     "metadata": {},
     "output_type": "execute_result"
    }
   ],
   "source": [
    "# continents = Asia, Europe, Africa, North America, South America, Oceania\n",
    "continent_mapping = {\n",
    "    'Asia': 'Asia', 'ASIA': 'Asia', 'Asi': 'Asia',\n",
    "    'Europe': 'Europe', 'EuRope': 'Europe', 'Euro': 'Europe',\n",
    "    'Africa': 'Africa', 'Afric': 'Africa',\n",
    "    'North America': 'North America', 'N America': 'North America',\n",
    "    'South America': 'South America',\n",
    "    'Oceania': 'Oceania'\n",
    "}\n",
    "\n",
    "csv2019['Continent'] = csv2019['Continent'].map(continent_mapping)\n",
    "continents = csv2019['Continent'].unique()\n",
    "continents     # now organized"
   ]
  },
  {
   "cell_type": "code",
   "execution_count": 22,
   "metadata": {},
   "outputs": [
    {
     "name": "stdout",
     "output_type": "stream",
     "text": [
      "<class 'pandas.core.frame.DataFrame'>\n",
      "RangeIndex: 177 entries, 0 to 176\n",
      "Data columns (total 10 columns):\n",
      " #   Column      Non-Null Count  Dtype  \n",
      "---  ------      --------------  -----  \n",
      " 0   No          177 non-null    int64  \n",
      " 1   Country     177 non-null    object \n",
      " 2   Continent   177 non-null    object \n",
      " 3   LifeExpect  177 non-null    float64\n",
      " 4   GDPPC       177 non-null    float64\n",
      " 5   MfgMn$      177 non-null    float64\n",
      " 6   AgriMn$     177 non-null    float64\n",
      " 7   CO2kt       167 non-null    float64\n",
      " 8   HealthPC$   164 non-null    float64\n",
      " 9   Pop_mn      177 non-null    float64\n",
      "dtypes: float64(7), int64(1), object(2)\n",
      "memory usage: 14.0+ KB\n"
     ]
    }
   ],
   "source": [
    "csv2019.info()  # have missing values in  CO2kt and HealthPC$\n",
    "# 177, don't have enough data so no machine learning.\n",
    "# choosing mean or median to replace missing values"
   ]
  },
  {
   "cell_type": "code",
   "execution_count": 25,
   "metadata": {},
   "outputs": [
    {
     "data": {
      "image/png": "[encoded data removed]",
      "text/plain": [
       "<Figure size 1200x600 with 1 Axes>"
      ]
     },
     "metadata": {},
     "output_type": "display_data"
    }
   ],
   "source": [
    "plt.figure(figsize=(12, 6))\n",
    "sns.boxplot(x=\"Continent\", y=\"HealthPC$\", data=csv2019)\n",
    "plt.title('HealthPC$a by Continent')\n",
    "plt.xlabel('Continent')\n",
    "plt.ylabel('HealthPC$')\n",
    "plt.show()  #outliers, use median of each continent to replace missing data."
   ]
  },
  {
   "cell_type": "code",
   "execution_count": 26,
   "metadata": {},
   "outputs": [
    {
     "data": {
      "image/png": "[encoded data removed]",
      "text/plain": [
       "<Figure size 1200x600 with 1 Axes>"
      ]
     },
     "metadata": {},
     "output_type": "display_data"
    }
   ],
   "source": [
    "plt.figure(figsize=(12, 6))\n",
    "sns.boxplot(x=\"Continent\", y=\"CO2kt\", data=csv2019)\n",
    "plt.title('CO2 Emission by Continent')\n",
    "plt.xlabel('Continent')\n",
    "plt.ylabel('CO2 Emission (kt)')\n",
    "plt.show()  # outliers, use median."
   ]
  },
  {
   "cell_type": "code",
   "execution_count": 40,
   "metadata": {},
   "outputs": [
    {
     "name": "stdout",
     "output_type": "stream",
     "text": [
      "                 HealthPC$     CO2kt\n",
      "Continent                           \n",
      "Africa           66.605190   5075.50\n",
      "Asia            294.460083  69270.55\n",
      "Europe         2219.100586  37661.60\n",
      "North America   500.883667   6522.30\n",
      "Oceania         234.538033    291.75\n",
      "South America   504.940353  48301.80\n",
      "No            0\n",
      "Country       0\n",
      "Continent     0\n",
      "LifeExpect    0\n",
      "GDPPC         0\n",
      "MfgMn$        0\n",
      "AgriMn$       0\n",
      "CO2kt         0\n",
      "HealthPC$     0\n",
      "Pop_mn        0\n",
      "dtype: int64\n"
     ]
    }
   ],
   "source": [
    "c_median = csv2019.groupby('Continent')[['HealthPC$', 'CO2kt']].median()\n",
    "print(c_median)\n",
    "\n",
    "for continent in c_median.index:\n",
    "    csv2019.loc[(csv2019['Continent'] == continent) & (csv2019['HealthPC$'].isnull()), 'HealthPC$'] = c_median.loc[continent, 'HealthPC$']\n",
    "    csv2019.loc[(csv2019['Continent'] == continent) & (csv2019['CO2kt'].isnull()), 'CO2kt'] = c_median.loc[continent, 'CO2kt']\n",
    "missValue = csv2019.isnull().sum()\n",
    "print(missValue)  #all replaced by median of each continent."
   ]
  },
  {
   "cell_type": "code",
   "execution_count": 42,
   "metadata": {},
   "outputs": [],
   "source": [
    "csv2019.to_excel('EconomicIndicators2019_cleaned.xlsx')\n"
   ]
  },
  {
   "cell_type": "markdown",
   "metadata": {},
   "source": [
    "## problem 2-2"
   ]
  },
  {
   "cell_type": "code",
   "execution_count": 44,
   "metadata": {},
   "outputs": [
    {
     "data": {
      "text/html": [
       "<div>\n",
       "<style scoped>\n",
       "    .dataframe tbody tr th:only-of-type {\n",
       "        vertical-align: middle;\n",
       "    }\n",
       "\n",
       "    .dataframe tbody tr th {\n",
       "        vertical-align: top;\n",
       "    }\n",
       "\n",
       "    .dataframe thead th {\n",
       "        text-align: right;\n",
       "    }\n",
       "</style>\n",
       "<table border=\"1\" class=\"dataframe\">\n",
       "  <thead>\n",
       "    <tr style=\"text-align: right;\">\n",
       "      <th></th>\n",
       "      <th>No</th>\n",
       "      <th>Country</th>\n",
       "      <th>Continent</th>\n",
       "      <th>LifeExpect</th>\n",
       "      <th>GDPPC</th>\n",
       "      <th>MfgMn$</th>\n",
       "      <th>AgriMn$</th>\n",
       "      <th>CO2kt</th>\n",
       "      <th>HealthPC$</th>\n",
       "      <th>Pop_mn</th>\n",
       "    </tr>\n",
       "  </thead>\n",
       "  <tbody>\n",
       "    <tr>\n",
       "      <th>0</th>\n",
       "      <td>1</td>\n",
       "      <td>Afghanistan</td>\n",
       "      <td>Asia</td>\n",
       "      <td>62.58</td>\n",
       "      <td>516.87</td>\n",
       "      <td>1546.26</td>\n",
       "      <td>5402.59</td>\n",
       "      <td>8709.47</td>\n",
       "      <td>80.29</td>\n",
       "      <td>38.97</td>\n",
       "    </tr>\n",
       "    <tr>\n",
       "      <th>1</th>\n",
       "      <td>2</td>\n",
       "      <td>Albania</td>\n",
       "      <td>Europe</td>\n",
       "      <td>76.99</td>\n",
       "      <td>5343.04</td>\n",
       "      <td>933.42</td>\n",
       "      <td>2915.07</td>\n",
       "      <td>4383.20</td>\n",
       "      <td>NaN</td>\n",
       "      <td>2.84</td>\n",
       "    </tr>\n",
       "    <tr>\n",
       "      <th>2</th>\n",
       "      <td>3</td>\n",
       "      <td>Algeria</td>\n",
       "      <td>Africa</td>\n",
       "      <td>74.45</td>\n",
       "      <td>3354.16</td>\n",
       "      <td>27257.32</td>\n",
       "      <td>20089.32</td>\n",
       "      <td>161563.00</td>\n",
       "      <td>214.85</td>\n",
       "      <td>43.45</td>\n",
       "    </tr>\n",
       "    <tr>\n",
       "      <th>3</th>\n",
       "      <td>4</td>\n",
       "      <td>Angola</td>\n",
       "      <td>Africa</td>\n",
       "      <td>62.26</td>\n",
       "      <td>1502.95</td>\n",
       "      <td>3548.57</td>\n",
       "      <td>4997.28</td>\n",
       "      <td>19814.50</td>\n",
       "      <td>50.74</td>\n",
       "      <td>33.43</td>\n",
       "    </tr>\n",
       "    <tr>\n",
       "      <th>4</th>\n",
       "      <td>5</td>\n",
       "      <td>Antigua and Barbuda</td>\n",
       "      <td>North America</td>\n",
       "      <td>78.84</td>\n",
       "      <td>15284.77</td>\n",
       "      <td>29.88</td>\n",
       "      <td>30.34</td>\n",
       "      <td>474.60</td>\n",
       "      <td>830.34</td>\n",
       "      <td>0.09</td>\n",
       "    </tr>\n",
       "  </tbody>\n",
       "</table>\n",
       "</div>"
      ],
      "text/plain": [
       "   No              Country      Continent  LifeExpect     GDPPC    MfgMn$  \\\n",
       "0   1          Afghanistan           Asia       62.58    516.87   1546.26   \n",
       "1   2              Albania         Europe       76.99   5343.04    933.42   \n",
       "2   3              Algeria         Africa       74.45   3354.16  27257.32   \n",
       "3   4               Angola         Africa       62.26   1502.95   3548.57   \n",
       "4   5  Antigua and Barbuda  North America       78.84  15284.77     29.88   \n",
       "\n",
       "    AgriMn$      CO2kt  HealthPC$  Pop_mn  \n",
       "0   5402.59    8709.47      80.29   38.97  \n",
       "1   2915.07    4383.20        NaN    2.84  \n",
       "2  20089.32  161563.00     214.85   43.45  \n",
       "3   4997.28   19814.50      50.74   33.43  \n",
       "4     30.34     474.60     830.34    0.09  "
      ]
     },
     "execution_count": 44,
     "metadata": {},
     "output_type": "execute_result"
    }
   ],
   "source": [
    "csv2020 = pd.read_excel(\"EconomicIndicators2020.xlsx\")\n",
    "csv2020.head()"
   ]
  },
  {
   "cell_type": "code",
   "execution_count": 48,
   "metadata": {},
   "outputs": [
    {
     "name": "stdout",
     "output_type": "stream",
     "text": [
      "['Asia' 'Europe' 'Africa' 'North America' 'South America' 'Oceania']\n",
      "0\n",
      "GDPPC        0\n",
      "MfgMn$       0\n",
      "AgriMn$      0\n",
      "CO2kt        0\n",
      "HealthPC$    0\n",
      "Pop_mn       0\n",
      "dtype: int64\n"
     ]
    }
   ],
   "source": [
    "#preprcessing for excel of 2020\n",
    "continents2 = csv2020['Continent'].unique()\n",
    "print(continents2)\n",
    "duplicates2 = csv2019.duplicated().sum()\n",
    "print(duplicates2)\n",
    "negative2= (csv2019[['GDPPC', 'MfgMn$', 'AgriMn$', 'CO2kt', 'HealthPC$', 'Pop_mn']] < 0).sum()\n",
    "print(negative2)  #no problem here."
   ]
  },
  {
   "cell_type": "code",
   "execution_count": 45,
   "metadata": {},
   "outputs": [
    {
     "name": "stdout",
     "output_type": "stream",
     "text": [
      "<class 'pandas.core.frame.DataFrame'>\n",
      "RangeIndex: 177 entries, 0 to 176\n",
      "Data columns (total 10 columns):\n",
      " #   Column      Non-Null Count  Dtype  \n",
      "---  ------      --------------  -----  \n",
      " 0   No          177 non-null    int64  \n",
      " 1   Country     177 non-null    object \n",
      " 2   Continent   177 non-null    object \n",
      " 3   LifeExpect  177 non-null    float64\n",
      " 4   GDPPC       177 non-null    float64\n",
      " 5   MfgMn$      177 non-null    float64\n",
      " 6   AgriMn$     177 non-null    float64\n",
      " 7   CO2kt       167 non-null    float64\n",
      " 8   HealthPC$   164 non-null    float64\n",
      " 9   Pop_mn      177 non-null    float64\n",
      "dtypes: float64(7), int64(1), object(2)\n",
      "memory usage: 14.0+ KB\n"
     ]
    }
   ],
   "source": [
    "csv2020.info() #missing data"
   ]
  },
  {
   "cell_type": "code",
   "execution_count": 49,
   "metadata": {},
   "outputs": [
    {
     "name": "stdout",
     "output_type": "stream",
     "text": [
      "               HealthPC$     CO2kt\n",
      "Continent                         \n",
      "Africa            60.930   4943.55\n",
      "Asia             305.090  64756.65\n",
      "Europe          2341.640  36177.40\n",
      "North America    514.825   5208.90\n",
      "Oceania          225.235    214.90\n",
      "South America    477.900  40504.95\n",
      "No            0\n",
      "Country       0\n",
      "Continent     0\n",
      "LifeExpect    0\n",
      "GDPPC         0\n",
      "MfgMn$        0\n",
      "AgriMn$       0\n",
      "CO2kt         0\n",
      "HealthPC$     0\n",
      "Pop_mn        0\n",
      "dtype: int64\n"
     ]
    }
   ],
   "source": [
    "c_median2 = csv2020.groupby('Continent')[['HealthPC$', 'CO2kt']].median()\n",
    "print(c_median2)\n",
    "\n",
    "for continent in c_median2.index:\n",
    "    csv2020.loc[(csv2020['Continent'] == continent) & (csv2020['HealthPC$'].isnull()), 'HealthPC$'] = c_median2.loc[continent, 'HealthPC$']\n",
    "    csv2020.loc[(csv2020['Continent'] == continent) & (csv2020['CO2kt'].isnull()), 'CO2kt'] = c_median2.loc[continent, 'CO2kt']\n",
    "missValue = csv2020.isnull().sum()\n",
    "print(missValue)  #all replaced by median of each continent."
   ]
  },
  {
   "cell_type": "code",
   "execution_count": 53,
   "metadata": {},
   "outputs": [
    {
     "data": {
      "text/html": [
       "<div>\n",
       "<style scoped>\n",
       "    .dataframe tbody tr th:only-of-type {\n",
       "        vertical-align: middle;\n",
       "    }\n",
       "\n",
       "    .dataframe tbody tr th {\n",
       "        vertical-align: top;\n",
       "    }\n",
       "\n",
       "    .dataframe thead th {\n",
       "        text-align: right;\n",
       "    }\n",
       "</style>\n",
       "<table border=\"1\" class=\"dataframe\">\n",
       "  <thead>\n",
       "    <tr style=\"text-align: right;\">\n",
       "      <th></th>\n",
       "      <th>No_2019</th>\n",
       "      <th>Country</th>\n",
       "      <th>Continent_2019</th>\n",
       "      <th>LifeExpect_2019</th>\n",
       "      <th>GDPPC_2019</th>\n",
       "      <th>MfgMn$_2019</th>\n",
       "      <th>AgriMn$_2019</th>\n",
       "      <th>CO2kt_2019</th>\n",
       "      <th>HealthPC$_2019</th>\n",
       "      <th>Pop_mn_2019</th>\n",
       "      <th>No_2020</th>\n",
       "      <th>Continent_2020</th>\n",
       "      <th>LifeExpect_2020</th>\n",
       "      <th>GDPPC_2020</th>\n",
       "      <th>MfgMn$_2020</th>\n",
       "      <th>AgriMn$_2020</th>\n",
       "      <th>CO2kt_2020</th>\n",
       "      <th>HealthPC$_2020</th>\n",
       "      <th>Pop_mn_2020</th>\n",
       "    </tr>\n",
       "  </thead>\n",
       "  <tbody>\n",
       "    <tr>\n",
       "      <th>0</th>\n",
       "      <td>1</td>\n",
       "      <td>Afghanistan</td>\n",
       "      <td>Asia</td>\n",
       "      <td>63.565</td>\n",
       "      <td>500.522981</td>\n",
       "      <td>1331.48</td>\n",
       "      <td>4872.44</td>\n",
       "      <td>11238.83</td>\n",
       "      <td>74.234104</td>\n",
       "      <td>37.77</td>\n",
       "      <td>1</td>\n",
       "      <td>Asia</td>\n",
       "      <td>62.58</td>\n",
       "      <td>516.87</td>\n",
       "      <td>1546.26</td>\n",
       "      <td>5402.59</td>\n",
       "      <td>8709.47</td>\n",
       "      <td>80.29</td>\n",
       "      <td>38.97</td>\n",
       "    </tr>\n",
       "    <tr>\n",
       "      <th>1</th>\n",
       "      <td>2</td>\n",
       "      <td>Albania</td>\n",
       "      <td>Europe</td>\n",
       "      <td>79.282</td>\n",
       "      <td>5396.214227</td>\n",
       "      <td>963.57</td>\n",
       "      <td>2832.29</td>\n",
       "      <td>4993.30</td>\n",
       "      <td>2219.100586</td>\n",
       "      <td>2.85</td>\n",
       "      <td>2</td>\n",
       "      <td>Europe</td>\n",
       "      <td>76.99</td>\n",
       "      <td>5343.04</td>\n",
       "      <td>933.42</td>\n",
       "      <td>2915.07</td>\n",
       "      <td>4383.20</td>\n",
       "      <td>2341.64</td>\n",
       "      <td>2.84</td>\n",
       "    </tr>\n",
       "    <tr>\n",
       "      <th>2</th>\n",
       "      <td>3</td>\n",
       "      <td>Algeria</td>\n",
       "      <td>Africa</td>\n",
       "      <td>76.474</td>\n",
       "      <td>4021.983608</td>\n",
       "      <td>40980.38</td>\n",
       "      <td>21189.60</td>\n",
       "      <td>170582.40</td>\n",
       "      <td>250.560776</td>\n",
       "      <td>42.71</td>\n",
       "      <td>3</td>\n",
       "      <td>Africa</td>\n",
       "      <td>74.45</td>\n",
       "      <td>3354.16</td>\n",
       "      <td>27257.32</td>\n",
       "      <td>20089.32</td>\n",
       "      <td>161563.00</td>\n",
       "      <td>214.85</td>\n",
       "      <td>43.45</td>\n",
       "    </tr>\n",
       "    <tr>\n",
       "      <th>3</th>\n",
       "      <td>4</td>\n",
       "      <td>Angola</td>\n",
       "      <td>Africa</td>\n",
       "      <td>62.448</td>\n",
       "      <td>2142.238757</td>\n",
       "      <td>4253.81</td>\n",
       "      <td>5463.38</td>\n",
       "      <td>24382.90</td>\n",
       "      <td>69.379341</td>\n",
       "      <td>32.35</td>\n",
       "      <td>4</td>\n",
       "      <td>Africa</td>\n",
       "      <td>62.26</td>\n",
       "      <td>1502.95</td>\n",
       "      <td>3548.57</td>\n",
       "      <td>4997.28</td>\n",
       "      <td>19814.50</td>\n",
       "      <td>50.74</td>\n",
       "      <td>33.43</td>\n",
       "    </tr>\n",
       "    <tr>\n",
       "      <th>4</th>\n",
       "      <td>5</td>\n",
       "      <td>Antigua and Barbuda</td>\n",
       "      <td>North America</td>\n",
       "      <td>78.691</td>\n",
       "      <td>18187.779712</td>\n",
       "      <td>37.48</td>\n",
       "      <td>29.25</td>\n",
       "      <td>509.00</td>\n",
       "      <td>801.543823</td>\n",
       "      <td>0.09</td>\n",
       "      <td>5</td>\n",
       "      <td>North America</td>\n",
       "      <td>78.84</td>\n",
       "      <td>15284.77</td>\n",
       "      <td>29.88</td>\n",
       "      <td>30.34</td>\n",
       "      <td>474.60</td>\n",
       "      <td>830.34</td>\n",
       "      <td>0.09</td>\n",
       "    </tr>\n",
       "  </tbody>\n",
       "</table>\n",
       "</div>"
      ],
      "text/plain": [
       "   No_2019              Country Continent_2019  LifeExpect_2019    GDPPC_2019  \\\n",
       "0        1          Afghanistan           Asia           63.565    500.522981   \n",
       "1        2              Albania         Europe           79.282   5396.214227   \n",
       "2        3              Algeria         Africa           76.474   4021.983608   \n",
       "3        4               Angola         Africa           62.448   2142.238757   \n",
       "4        5  Antigua and Barbuda  North America           78.691  18187.779712   \n",
       "\n",
       "   MfgMn$_2019  AgriMn$_2019  CO2kt_2019  HealthPC$_2019  Pop_mn_2019  \\\n",
       "0      1331.48       4872.44    11238.83       74.234104        37.77   \n",
       "1       963.57       2832.29     4993.30     2219.100586         2.85   \n",
       "2     40980.38      21189.60   170582.40      250.560776        42.71   \n",
       "3      4253.81       5463.38    24382.90       69.379341        32.35   \n",
       "4        37.48         29.25      509.00      801.543823         0.09   \n",
       "\n",
       "   No_2020 Continent_2020  LifeExpect_2020  GDPPC_2020  MfgMn$_2020  \\\n",
       "0        1           Asia            62.58      516.87      1546.26   \n",
       "1        2         Europe            76.99     5343.04       933.42   \n",
       "2        3         Africa            74.45     3354.16     27257.32   \n",
       "3        4         Africa            62.26     1502.95      3548.57   \n",
       "4        5  North America            78.84    15284.77        29.88   \n",
       "\n",
       "   AgriMn$_2020  CO2kt_2020  HealthPC$_2020  Pop_mn_2020  \n",
       "0       5402.59     8709.47           80.29        38.97  \n",
       "1       2915.07     4383.20         2341.64         2.84  \n",
       "2      20089.32   161563.00          214.85        43.45  \n",
       "3       4997.28    19814.50           50.74        33.43  \n",
       "4         30.34      474.60          830.34         0.09  "
      ]
     },
     "execution_count": 53,
     "metadata": {},
     "output_type": "execute_result"
    }
   ],
   "source": [
    "mergedcsv = pd.merge(csv2019, csv2020, on='Country', suffixes=('_2019', '_2020'))\n",
    "mergedcsv.head()"
   ]
  },
  {
   "cell_type": "code",
   "execution_count": 57,
   "metadata": {},
   "outputs": [
    {
     "name": "stdout",
     "output_type": "stream",
     "text": [
      "                  GDPPC_2019    GDPPC_2020\n",
      "Continent_2019                            \n",
      "Africa           2889.859188   2523.492727\n",
      "Asia            16017.362660  13673.086000\n",
      "Europe          37803.197034  37025.550465\n",
      "North America   18894.301037  16769.802800\n",
      "Oceania         12818.371198  12227.537000\n",
      "South America    8691.767025   7653.437000\n"
     ]
    }
   ],
   "source": []
  },
  {
   "cell_type": "code",
   "execution_count": 78,
   "metadata": {},
   "outputs": [
    {
     "name": "stdout",
     "output_type": "stream",
     "text": [
      "                  GDPPC_2019    GDPPC_2020\n",
      "Continent_2019                            \n",
      "Africa           2889.859188   2523.492727\n",
      "Asia            16017.362660  13673.086000\n",
      "Europe          37803.197034  37025.550465\n",
      "North America   18894.301037  16769.802800\n",
      "Oceania         12818.371198  12227.537000\n",
      "South America    8691.767025   7653.437000\n"
     ]
    },
    {
     "data": {
      "image/png": "[encoded data removed]",
      "text/plain": [
       "<Figure size 1200x600 with 1 Axes>"
      ]
     },
     "metadata": {},
     "output_type": "display_data"
    }
   ],
   "source": [
    "c_mean = mergedcsv.groupby('Continent_2019')[['GDPPC_2019', 'GDPPC_2020']].mean()\n",
    "print(c_mean)\n",
    "GDP = pd.melt(mergedcsv, id_vars='Continent_2019',\n",
    "                value_vars=['GDPPC_2019', 'GDPPC_2020'],\n",
    "                var_name='Year', value_name='GDPPC')\n",
    "\n",
    "GDP['Year'] = GDP['Year'].str.replace('GDPPC_', '')\n",
    "\n",
    "plt.figure(figsize=(12, 6))\n",
    "sns.barplot(data=GDP, x='Continent_2019', y='GDPPC', hue='Year', errorbar=None)\n",
    "plt.title('Average GDP Per Capita by Continent for 2019 and 2020')\n",
    "plt.xlabel('Continents')\n",
    "plt.ylabel('GDP Per Capita')\n",
    "plt.legend(title='Year')\n",
    "plt.show()"
   ]
  },
  {
   "cell_type": "code",
   "execution_count": null,
   "metadata": {},
   "outputs": [],
   "source": []
  }
 ],
 "metadata": {
  "kernelspec": {
   "display_name": "base",
   "language": "python",
   "name": "python3"
  },
  "language_info": {
   "codemirror_mode": {
    "name": "ipython",
    "version": 3
   },
   "file_extension": ".py",
   "mimetype": "text/x-python",
   "name": "python",
   "nbconvert_exporter": "python",
   "pygments_lexer": "ipython3",
   "version": "3.11.5"
  }
 },
 "nbformat": 4,
 "nbformat_minor": 2
}
