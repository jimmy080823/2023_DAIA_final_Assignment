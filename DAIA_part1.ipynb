{
 "cells": [
  {
   "cell_type": "code",
   "execution_count": 7,
   "metadata": {},
   "outputs": [],
   "source": [
    "import pandas as pd\n",
    "import numpy as np\n",
    "import matplotlib.pyplot as plt\n",
    "import seaborn as sns"
   ]
  },
  {
   "cell_type": "code",
   "execution_count": 5,
   "metadata": {},
   "outputs": [
    {
     "data": {
      "text/html": [
       "<div>\n",
       "<style scoped>\n",
       "    .dataframe tbody tr th:only-of-type {\n",
       "        vertical-align: middle;\n",
       "    }\n",
       "\n",
       "    .dataframe tbody tr th {\n",
       "        vertical-align: top;\n",
       "    }\n",
       "\n",
       "    .dataframe thead th {\n",
       "        text-align: right;\n",
       "    }\n",
       "</style>\n",
       "<table border=\"1\" class=\"dataframe\">\n",
       "  <thead>\n",
       "    <tr style=\"text-align: right;\">\n",
       "      <th></th>\n",
       "      <th>No</th>\n",
       "      <th>Country</th>\n",
       "      <th>Continent</th>\n",
       "      <th>LifeExpect</th>\n",
       "      <th>GDPPC</th>\n",
       "      <th>MfgMn$</th>\n",
       "      <th>AgriMn$</th>\n",
       "      <th>CO2kt</th>\n",
       "      <th>HealthPC$</th>\n",
       "      <th>Pop_mn</th>\n",
       "    </tr>\n",
       "  </thead>\n",
       "  <tbody>\n",
       "    <tr>\n",
       "      <th>0</th>\n",
       "      <td>1</td>\n",
       "      <td>Afghanistan</td>\n",
       "      <td>Asia</td>\n",
       "      <td>62.58</td>\n",
       "      <td>516.87</td>\n",
       "      <td>1546.26</td>\n",
       "      <td>5402.59</td>\n",
       "      <td>8709.47</td>\n",
       "      <td>80.29</td>\n",
       "      <td>38.97</td>\n",
       "    </tr>\n",
       "    <tr>\n",
       "      <th>1</th>\n",
       "      <td>2</td>\n",
       "      <td>Albania</td>\n",
       "      <td>Europe</td>\n",
       "      <td>76.99</td>\n",
       "      <td>5343.04</td>\n",
       "      <td>933.42</td>\n",
       "      <td>2915.07</td>\n",
       "      <td>4383.20</td>\n",
       "      <td>NaN</td>\n",
       "      <td>2.84</td>\n",
       "    </tr>\n",
       "    <tr>\n",
       "      <th>2</th>\n",
       "      <td>3</td>\n",
       "      <td>Algeria</td>\n",
       "      <td>Africa</td>\n",
       "      <td>74.45</td>\n",
       "      <td>3354.16</td>\n",
       "      <td>27257.32</td>\n",
       "      <td>20089.32</td>\n",
       "      <td>161563.00</td>\n",
       "      <td>214.85</td>\n",
       "      <td>43.45</td>\n",
       "    </tr>\n",
       "    <tr>\n",
       "      <th>3</th>\n",
       "      <td>4</td>\n",
       "      <td>Angola</td>\n",
       "      <td>Africa</td>\n",
       "      <td>62.26</td>\n",
       "      <td>1502.95</td>\n",
       "      <td>3548.57</td>\n",
       "      <td>4997.28</td>\n",
       "      <td>19814.50</td>\n",
       "      <td>50.74</td>\n",
       "      <td>33.43</td>\n",
       "    </tr>\n",
       "    <tr>\n",
       "      <th>4</th>\n",
       "      <td>5</td>\n",
       "      <td>Antigua and Barbuda</td>\n",
       "      <td>North America</td>\n",
       "      <td>78.84</td>\n",
       "      <td>15284.77</td>\n",
       "      <td>29.88</td>\n",
       "      <td>30.34</td>\n",
       "      <td>474.60</td>\n",
       "      <td>830.34</td>\n",
       "      <td>0.09</td>\n",
       "    </tr>\n",
       "  </tbody>\n",
       "</table>\n",
       "</div>"
      ],
      "text/plain": [
       "   No              Country      Continent  LifeExpect     GDPPC    MfgMn$  \\\n",
       "0   1          Afghanistan           Asia       62.58    516.87   1546.26   \n",
       "1   2              Albania         Europe       76.99   5343.04    933.42   \n",
       "2   3              Algeria         Africa       74.45   3354.16  27257.32   \n",
       "3   4               Angola         Africa       62.26   1502.95   3548.57   \n",
       "4   5  Antigua and Barbuda  North America       78.84  15284.77     29.88   \n",
       "\n",
       "    AgriMn$      CO2kt  HealthPC$  Pop_mn  \n",
       "0   5402.59    8709.47      80.29   38.97  \n",
       "1   2915.07    4383.20        NaN    2.84  \n",
       "2  20089.32  161563.00     214.85   43.45  \n",
       "3   4997.28   19814.50      50.74   33.43  \n",
       "4     30.34     474.60     830.34    0.09  "
      ]
     },
     "execution_count": 5,
     "metadata": {},
     "output_type": "execute_result"
    }
   ],
   "source": [
    "csv = pd.read_excel(\"EconomicIndicators2020.xlsx\")\n",
    "csv.head()"
   ]
  },
  {
   "cell_type": "code",
   "execution_count": 6,
   "metadata": {},
   "outputs": [
    {
     "name": "stdout",
     "output_type": "stream",
     "text": [
      "<class 'pandas.core.frame.DataFrame'>\n",
      "RangeIndex: 177 entries, 0 to 176\n",
      "Data columns (total 10 columns):\n",
      " #   Column      Non-Null Count  Dtype  \n",
      "---  ------      --------------  -----  \n",
      " 0   No          177 non-null    int64  \n",
      " 1   Country     177 non-null    object \n",
      " 2   Continent   177 non-null    object \n",
      " 3   LifeExpect  177 non-null    float64\n",
      " 4   GDPPC       177 non-null    float64\n",
      " 5   MfgMn$      177 non-null    float64\n",
      " 6   AgriMn$     177 non-null    float64\n",
      " 7   CO2kt       167 non-null    float64\n",
      " 8   HealthPC$   164 non-null    float64\n",
      " 9   Pop_mn      177 non-null    float64\n",
      "dtypes: float64(7), int64(1), object(2)\n",
      "memory usage: 14.0+ KB\n"
     ]
    }
   ],
   "source": [
    "csv.info()"
   ]
  },
  {
   "cell_type": "code",
   "execution_count": 8,
   "metadata": {},
   "outputs": [
    {
     "data": {
      "text/plain": [
       "72.67039548022599"
      ]
     },
     "execution_count": 8,
     "metadata": {},
     "output_type": "execute_result"
    }
   ],
   "source": [
    "#Q1a\n",
    "avg_life = csv['LifeExpect'].mean()\n",
    "avg_life"
   ]
  },
  {
   "cell_type": "code",
   "execution_count": null,
   "metadata": {},
   "outputs": [],
   "source": []
  }
 ],
 "metadata": {
  "kernelspec": {
   "display_name": "base",
   "language": "python",
   "name": "python3"
  },
  "language_info": {
   "codemirror_mode": {
    "name": "ipython",
    "version": 3
   },
   "file_extension": ".py",
   "mimetype": "text/x-python",
   "name": "python",
   "nbconvert_exporter": "python",
   "pygments_lexer": "ipython3",
   "version": "3.11.5"
  }
 },
 "nbformat": 4,
 "nbformat_minor": 2
}
